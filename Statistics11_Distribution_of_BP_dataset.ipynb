{
 "cells": [
  {
   "cell_type": "markdown",
   "id": "20a13c75",
   "metadata": {},
   "source": [
    "### Statistics 11: Distribution of BP dataset\n",
    "    \n",
    "Given the data of a feature contributing to different classes:\n",
    "    \n",
    "https://drive.google.com/file/d/1mCjtYHiX--mMUjicuaP2gH3k-SnFxt8Y/view?usp=share_\n",
    "    \n",
    "a. Check whether the distribution of all the classes are the same or not.\n",
    "\n",
    "b. Check for the equality of variance/\n",
    "\n",
    "c. Which amount LDA and QDA would perform better on this data for classification and why.\n",
    "\n",
    "d. Check the equality of mean for between"
   ]
  },
  {
   "cell_type": "markdown",
   "id": "ee100a28",
   "metadata": {},
   "source": [
    "### 11(a): Check whether the distribution of all the classes are the same or not."
   ]
  },
  {
   "cell_type": "code",
   "execution_count": 1,
   "id": "756c30cd",
   "metadata": {},
   "outputs": [
    {
     "name": "stdout",
     "output_type": "stream",
     "text": [
      "There is a significant difference in the distributions of the classes.\n"
     ]
    }
   ],
   "source": [
    "import pandas as pd\n",
    "import numpy as np\n",
    "import scipy.stats as stats\n",
    "\n",
    "df = pd.read_csv(\"BP_dataset.csv\")\n",
    "\n",
    "# To perform one-way ANOVA\n",
    "f_statistic, p_value = stats.f_oneway(df[' Blood Pressure Before (mmHg)'], df[' Blood Pressure After (mmHg)'])\n",
    "\n",
    "if p_value < 0.05:\n",
    "    print(\"There is a significant difference in the distributions of the classes.\")\n",
    "else:\n",
    "    print(\"There is no significant difference in the distributions of the classes.\")"
   ]
  },
  {
   "cell_type": "markdown",
   "id": "ac7de15c",
   "metadata": {},
   "source": [
    "### 11(b): Check for the equality of variance"
   ]
  },
  {
   "cell_type": "code",
   "execution_count": 2,
   "id": "4311f94c",
   "metadata": {},
   "outputs": [
    {
     "name": "stdout",
     "output_type": "stream",
     "text": [
      "The variances of the groups are equal.\n"
     ]
    }
   ],
   "source": [
    "from scipy.stats import levene\n",
    "\n",
    "# Perform Levene's test for equality of variances\n",
    "statistic, p_value = levene(df[' Blood Pressure Before (mmHg)'], df[' Blood Pressure After (mmHg)'])\n",
    "\n",
    "if p_value > 0.05:\n",
    "    print(\"The variances of the groups are equal.\")\n",
    "else:\n",
    "    print(\"The variances of the groups are not equal.\")\n"
   ]
  },
  {
   "cell_type": "markdown",
   "id": "31a6081a",
   "metadata": {},
   "source": [
    "### 11(c): Which amount LDA and QDA would perform better on this data for classification and why."
   ]
  },
  {
   "cell_type": "markdown",
   "id": "557979c9",
   "metadata": {},
   "source": [
    "To determine which amount Linear Discriminant Analysis (LDA) and Quadratic Discriminant Analysis (QDA) would perform better on this data for classification, we can consider the assumptions and characteristics of the data.\n",
    "\n",
    "LDA assumes that the groups have equal covariance matrices and that the predictors (features) are normally distributed within each group. QDA relaxes the assumption of equal covariance matrices but still assumes normality within each group.\n",
    "\n",
    "If the equality of variance assumption holds (as determined by Levene's test), LDA could be a suitable choice since it assumes equal covariance matrices. If the assumption does not hold, and the groups have different variances, QDA may be more appropriate as it can handle different covariance matrices.\n",
    "\n",
    "However, it is important to note that the choice between LDA and QDA should also consider the specific context and requirements of the classification problem, as well as the available data and any other relevant factors."
   ]
  },
  {
   "cell_type": "markdown",
   "id": "dbbaca5e",
   "metadata": {},
   "source": [
    "#### 11(d): Check the equality of mean for between all the classes."
   ]
  },
  {
   "cell_type": "code",
   "execution_count": 3,
   "id": "13ce11d4",
   "metadata": {},
   "outputs": [
    {
     "name": "stdout",
     "output_type": "stream",
     "text": [
      "There is a significant difference in the means between the 'Blood Pressure Before' and 'Blood Pressure After' groups.\n"
     ]
    }
   ],
   "source": [
    "# Perform paired t-test\n",
    "from scipy.stats import ttest_rel\n",
    "\n",
    "df = pd.read_csv(\"BP_dataset.csv\")\n",
    "\n",
    "t_statistic, p_value = ttest_rel(df[' Blood Pressure Before (mmHg)'], df[' Blood Pressure After (mmHg)'])\n",
    "\n",
    "if p_value < 0.05:\n",
    "    print(\"There is a significant difference in the means between the 'Blood Pressure Before' and 'Blood Pressure After' groups.\")\n",
    "else:\n",
    "    print(\"The means between the 'Blood Pressure Before' and 'Blood Pressure After' groups are not significantly different.\")\n"
   ]
  }
 ],
 "metadata": {
  "kernelspec": {
   "display_name": "Python 3 (ipykernel)",
   "language": "python",
   "name": "python3"
  },
  "language_info": {
   "codemirror_mode": {
    "name": "ipython",
    "version": 3
   },
   "file_extension": ".py",
   "mimetype": "text/x-python",
   "name": "python",
   "nbconvert_exporter": "python",
   "pygments_lexer": "ipython3",
   "version": "3.9.13"
  }
 },
 "nbformat": 4,
 "nbformat_minor": 5
}
